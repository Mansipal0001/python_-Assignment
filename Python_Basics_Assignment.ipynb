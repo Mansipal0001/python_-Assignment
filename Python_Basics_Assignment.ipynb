{
 "cells": [
  {
   "cell_type": "code",
   "execution_count": null,
   "id": "6fcecd8f",
   "metadata": {},
   "outputs": [],
   "source": [
    "# 1. Identify Values and Expressions\n",
    "# Values: 'hello', -87.8, 6\n",
    "# Expressions (operators): *, -, /, +\n",
    "\n",
    "# Let’s classify each:\n",
    "print(\"Classification:\")\n",
    "print(\"*     → Expression\")\n",
    "print(\"'hello' → Value\")\n",
    "print(\"-87.8 → Value\")\n",
    "print(\"-     → Expression\")\n",
    "print(\"/     → Expression\")\n",
    "print(\"+     → Expression\")\n",
    "print(\"6     → Value\")"
   ]
  },
  {
   "cell_type": "code",
   "execution_count": null,
   "id": "7ec78ac9",
   "metadata": {},
   "outputs": [],
   "source": [
    "# 2. Difference between String and Variable\n",
    "\n",
    "# String → A sequence of characters enclosed in quotes. Example: \"hello\"\n",
    "# Variable → A named storage that holds data. Example: name = \"hello\"\n",
    "# Explanation:\n",
    "# A string is data; a variable is a container to hold data.\n",
    "\n",
    "string = \"hello\"\n",
    "name = string\n",
    "\n",
    "print(\"String:\", string)\n",
    "print(\"Variable holding string:\", name)"
   ]
  },
  {
   "cell_type": "code",
   "execution_count": null,
   "id": "9867e082",
   "metadata": {},
   "outputs": [],
   "source": [
    "# 3. Describe three different data types\n",
    "\n",
    "# Integer (int) – Whole numbers: 1, 45, -99\n",
    "# Float – Decimal numbers: 3.14, -0.8\n",
    "# String (str) – Text: \"apple\", \"123\"\n",
    "\n",
    "num1 = 10           # Integer\n",
    "pi = 3.14           # Float\n",
    "message = \"Python\"  # String\n",
    "\n",
    "print(\"Integer:\", num1)\n",
    "print(\"Float:\", pi)\n",
    "print(\"String:\", message)"
   ]
  },
  {
   "cell_type": "code",
   "execution_count": null,
   "id": "3a025c0e",
   "metadata": {},
   "outputs": [],
   "source": [
    "# 4. What is an expression made up of? What do all expressions do?\n",
    "\n",
    "# Expression is made up of: Values, Variables, and Operators.\n",
    "# All expressions return a result (they are evaluated).\n",
    "\n",
    "x = 5\n",
    "y = 3\n",
    "result = x + y  # Expression: x + y\n",
    "\n",
    "print(\"Expression result:\", result)"
   ]
  },
  {
   "cell_type": "code",
   "execution_count": null,
   "id": "351d5b41",
   "metadata": {},
   "outputs": [],
   "source": [
    "# 5. Difference between Expression and Statement\n",
    "\n",
    "# Expression: Produces a value. (e.g., 2 + 3)\n",
    "# Statement: Does something. (e.g., spam = 10 is a statement)\n",
    "\n",
    "spam = 10         # Statement (assigns value)\n",
    "value = spam + 5  # Expression (evaluates to 15)\n",
    "\n",
    "print(\"Expression output:\", value)"
   ]
  },
  {
   "cell_type": "code",
   "execution_count": null,
   "id": "d0588acf",
   "metadata": {},
   "outputs": [],
   "source": [
    "# 6. What will variable 'bacon' contain?\n",
    "\n",
    "bacon = 22\n",
    "bacon + 1  # This is not assigned, so bacon is still 22\n",
    "\n",
    "print(\"bacon =\", bacon)  # Output: 22"
   ]
  },
  {
   "cell_type": "code",
   "execution_count": null,
   "id": "28537d46",
   "metadata": {},
   "outputs": [],
   "source": [
    "# 7. Evaluate the values:\n",
    "\n",
    "print(\"'spam' + 'spamspam' =\", 'spam' + 'spamspam')  # Concatenation\n",
    "print(\"'spam' * 3 =\", 'spam' * 3)  # Repetition"
   ]
  },
  {
   "cell_type": "code",
   "execution_count": null,
   "id": "4bfdf312",
   "metadata": {},
   "outputs": [],
   "source": [
    "# 8. Why is 'eggs' a valid variable name but '100' is not?\n",
    "\n",
    "# Variable names can't start with a digit.\n",
    "# Valid: eggs, _name, var1\n",
    "# Invalid: 100, 3value\n",
    "\n",
    "eggs = \"valid\"\n",
    "# 100 = \"invalid\" → SyntaxError\n",
    "\n",
    "print(\"eggs is valid:\", eggs)"
   ]
  },
  {
   "cell_type": "code",
   "execution_count": null,
   "id": "49f60526",
   "metadata": {},
   "outputs": [],
   "source": [
    "# 9. Functions to convert types:\n",
    "\n",
    "# int() → to convert to integer\n",
    "# float() → to convert to float\n",
    "# str() → to convert to string\n",
    "\n",
    "print(\"int('5'):\", int('5'))\n",
    "print(\"float('5.2'):\", float('5.2'))\n",
    "print(\"str(99):\", str(99))"
   ]
  },
  {
   "cell_type": "code",
   "execution_count": null,
   "id": "aa4f625c",
   "metadata": {},
   "outputs": [],
   "source": [
    "# 10. Why does this expression cause an error?\n",
    "# 'I have eaten ' + 99 + ' burritos.' → Error: can't add str and int\n",
    "\n",
    "# Fix it using str(99)\n",
    "print('I have eaten ' + str(99) + ' burritos.')"
   ]
  }
 ],
 "metadata": {},
 "nbformat": 4,
 "nbformat_minor": 5
}
